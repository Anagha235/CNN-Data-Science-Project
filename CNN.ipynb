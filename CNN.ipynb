{
 "cells": [
  {
   "cell_type": "code",
   "execution_count": 51,
   "metadata": {},
   "outputs": [],
   "source": [
    "import tensorflow as tf\n",
    "import keras\n",
    "from keras import layers"
   ]
  },
  {
   "cell_type": "code",
   "execution_count": 52,
   "metadata": {},
   "outputs": [
    {
     "name": "stdout",
     "output_type": "stream",
     "text": [
      "Found 4752 files belonging to 9 classes.\n"
     ]
    }
   ],
   "source": [
    "data_path = r'C:\\Users\\narut\\OneDrive - University of Hertfordshire\\CNN-Data-Science-Project\\RealWaste'\n",
    "dataset = tf.keras.preprocessing.image_dataset_from_directory(\n",
    "    data_path,\n",
    "    image_size=(224, 224),\n",
    "    batch_size=32,\n",
    "\n",
    ")\n"
   ]
  },
  {
   "cell_type": "code",
   "execution_count": 53,
   "metadata": {},
   "outputs": [],
   "source": [
    "def normalize_img(image, label):\n",
    "    image = image / 255.0  # Scale pixel values to [0, 1]\n",
    "    return image, label\n",
    "\n",
    "dataset = dataset.map(normalize_img)\n"
   ]
  },
  {
   "cell_type": "code",
   "execution_count": 54,
   "metadata": {},
   "outputs": [
    {
     "name": "stdout",
     "output_type": "stream",
     "text": [
      "Min pixel value: 0.0\n",
      "Max pixel value: 1.0\n"
     ]
    }
   ],
   "source": [
    "for images, labels in dataset.take(1):  # Take a single batch\n",
    "    print(f\"Min pixel value: {tf.reduce_min(images).numpy()}\")\n",
    "    print(f\"Max pixel value: {tf.reduce_max(images).numpy()}\")"
   ]
  }
 ],
 "metadata": {
  "kernelspec": {
   "display_name": "Python 3",
   "language": "python",
   "name": "python3"
  },
  "language_info": {
   "codemirror_mode": {
    "name": "ipython",
    "version": 3
   },
   "file_extension": ".py",
   "mimetype": "text/x-python",
   "name": "python",
   "nbconvert_exporter": "python",
   "pygments_lexer": "ipython3",
   "version": "3.12.6"
  }
 },
 "nbformat": 4,
 "nbformat_minor": 2
}
